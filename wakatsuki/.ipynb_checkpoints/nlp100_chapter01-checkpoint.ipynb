{
 "cells": [
  {
   "cell_type": "code",
   "execution_count": 1,
   "metadata": {},
   "outputs": [
    {
     "name": "stdout",
     "output_type": "stream",
     "text": [
      "[3, 1, 4, 1, 5, 9, 2, 6, 5, 3, 5, 8, 9, 7, 9]\n"
     ]
    }
   ],
   "source": [
    "#w1_03\n",
    "a = \"Now I need a drink, alcoholic of course, after the heavy lectures involving quantum mechanics.\"\n",
    "a = a.replace(\",\", \"\").replace(\".\", \"\")\n",
    "#print(a.split())\n",
    "ansList = []\n",
    "for word in a.split():\n",
    "    ansList.append(len(word))\n",
    "print(ansList)\n"
   ]
  },
  {
   "cell_type": "code",
   "execution_count": 2,
   "metadata": {
    "scrolled": true
   },
   "outputs": [
    {
     "name": "stdout",
     "output_type": "stream",
     "text": [
      "Hi He Lied Because Boron Could Not Oxidize Fluorine. New Nations Might Also Sign Peace Security Clause. Arthur King Can.\n",
      "['Hi', 'He', 'Lied', 'Because', 'Boron', 'Could', 'Not', 'Oxidize', 'Fluorine.', 'New', 'Nations', 'Might', 'Also', 'Sign', 'Peace', 'Security', 'Clause.', 'Arthur', 'King', 'Can.']\n",
      "{1: 'H', 2: 'He', 3: 'Li', 4: 'Be', 5: 'B', 6: 'C', 7: 'N', 8: 'O', 9: 'F', 10: 'Ne', 11: 'Na', 12: 'Mi', 13: 'Al', 14: 'Si', 15: 'P', 16: 'S', 17: 'Cl', 18: 'Ar', 19: 'K', 20: 'Ca'}\n"
     ]
    }
   ],
   "source": [
    "#w1_04\n",
    "#a = \"Hi He Lied Because Boron Could Not Oxidize Fluorine. New Nations Might Also Sign Peace Security Clause. Arthur King Can.\"\n",
    "a = input()\n",
    "wList = a.replace(\",\", \"\").replace(\".\", \"\").split()\n",
    "num = [1, 5, 6, 7, 8, 9, 15, 16, 19]\n",
    "ans = {}\n",
    "\n",
    "print(a.split())\n",
    "for i in wList:\n",
    "    if wList.index(i) + 1 in num:\n",
    "        ans[wList.index(i) + 1] = i[0]\n",
    "    else:\n",
    "        ans[wList.index(i) + 1] = i[:2]\n",
    "print(ans)\n",
    "#周期表になってる！！"
   ]
  },
  {
   "cell_type": "code",
   "execution_count": 3,
   "metadata": {},
   "outputs": [
    {
     "name": "stdout",
     "output_type": "stream",
     "text": [
      "['I ', 'am', 'an', 'NL', 'LP', 'Pe', 'er']\n",
      "['I ', ' a', 'am', 'm ', ' a', 'an', 'n ', ' N', 'NL', 'LP', 'Pe', 'er']\n"
     ]
    }
   ],
   "source": [
    "#w1_05\n",
    "\n",
    "#文字列strを1文字づつずらしながらn文字ずつ取得しリストにする関数\n",
    "#半角スペースでパディング\n",
    "def n_gram(str, n):\n",
    "    n_gram = []\n",
    "    for i in range(len(str) - n + 1):\n",
    "        x = str[i:i + n]\n",
    "        n_gram.append(x)\n",
    "    if not n_gram:\n",
    "        n_gram.append(str[:n].ljust(n, \" \"))\n",
    "    return n_gram\n",
    "\n",
    "a = \"I am an NLPer\"\n",
    "b = a.replace(\",\", \"\").replace(\".\", \"\")\n",
    "c = b.split()\n",
    "ans1 = []\n",
    "for w in c:\n",
    "    ans1.extend(n_gram(w, 2))\n",
    "print(ans1)\n",
    "print(n_gram(a, 2))"
   ]
  },
  {
   "cell_type": "code",
   "execution_count": 28,
   "metadata": {
    "scrolled": true
   },
   "outputs": [
    {
     "name": "stdout",
     "output_type": "stream",
     "text": [
      "X: ['pa', 'ar', 'ra', 'ap', 'pa', 'ar', 'ra', 'ap', 'pa', 'ar', 'ra', 'ad', 'di', 'is', 'se']\n",
      "Y: ['pa', 'ar', 'ra', 'ag', 'gr', 'ra', 'ap', 'ph']\n",
      "X2: {'se', 'di', 'ad', 'is', 'ap', 'ra', 'ar', 'pa'}\n",
      "Y2: {'ag', 'ph', 'ap', 'gr', 'ra', 'ar', 'pa'}\n",
      "{'ag', 'ph', 'di', 'ad', 'is', 'se', 'gr'}\n",
      "和集合: {'ag', 'se', 'di', 'ph', 'ad', 'is', 'ap', 'gr', 'ra', 'ar', 'pa'}\n",
      "積集合: {'ar', 'ra', 'ap', 'pa'}\n",
      "差集合: {'ad', 'se', 'is', 'di'}\n",
      "se  in X_bi_gram: True\n",
      "se  in Y_bi_gram: False\n"
     ]
    }
   ],
   "source": [
    "#w1_06\n",
    "\n",
    "x = \"paraparaparadise\"\n",
    "y = \"paragraph\"\n",
    "\n",
    "X = n_gram(x, 2)\n",
    "Y = n_gram(y, 2)\n",
    "X2 = set(X)\n",
    "Y2 = set(Y)\n",
    "print(\"X: \" + str(X))\n",
    "print(\"Y: \" + str(Y))\n",
    "print(\"X2: \" + str(X2))\n",
    "print(\"Y2: \" + str(Y2))\n",
    "\n",
    "def join(x, y):\n",
    "    join = x | y\n",
    "    return join\n",
    "\n",
    "def dif(x, y):\n",
    "    sd = x - y\n",
    "    return sd\n",
    "\n",
    "def intersection(x, y):\n",
    "    ins = x & y\n",
    "    return ins\n",
    "    \n",
    "\n",
    "print(set_dif(X2, Y2))\n",
    "\n",
    "print(\"和集合: \" + str(join(X2, Y2)))\n",
    "print(\"積集合: \" + str(intersection(X2,Y2)))\n",
    "print(\"差集合: \" + str(dif(X2,Y2)))\n",
    "\n",
    "print(\"se  in X_bi_gram: \" + str(\"se\" in X))\n",
    "print(\"se  in Y_bi_gram: \" + str(\"se\" in Y))"
   ]
  },
  {
   "cell_type": "code",
   "execution_count": null,
   "metadata": {},
   "outputs": [],
   "source": []
  },
  {
   "cell_type": "code",
   "execution_count": null,
   "metadata": {},
   "outputs": [],
   "source": []
  }
 ],
 "metadata": {
  "kernelspec": {
   "display_name": "Python 3",
   "language": "python",
   "name": "python3"
  },
  "language_info": {
   "codemirror_mode": {
    "name": "ipython",
    "version": 3
   },
   "file_extension": ".py",
   "mimetype": "text/x-python",
   "name": "python",
   "nbconvert_exporter": "python",
   "pygments_lexer": "ipython3",
   "version": "3.7.1"
  }
 },
 "nbformat": 4,
 "nbformat_minor": 2
}
