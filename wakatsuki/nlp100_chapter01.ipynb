{
 "cells": [
  {
   "cell_type": "code",
   "execution_count": 1,
   "metadata": {},
   "outputs": [
    {
     "name": "stdout",
     "output_type": "stream",
     "text": [
      "[3, 1, 4, 1, 5, 9, 2, 6, 5, 3, 5, 8, 9, 7, 9]\n"
     ]
    }
   ],
   "source": [
    "#w1_03\n",
    "a = \"Now I need a drink, alcoholic of course, after the heavy lectures involving quantum mechanics.\"\n",
    "a = a.replace(\",\", \"\").replace(\".\", \"\")\n",
    "#print(a.split())\n",
    "ansList = []\n",
    "for word in a.split():\n",
    "    ansList.append(len(word))\n",
    "print(ansList)\n"
   ]
  },
  {
   "cell_type": "code",
   "execution_count": 2,
   "metadata": {
    "scrolled": true
   },
   "outputs": [
    {
     "name": "stdout",
     "output_type": "stream",
     "text": [
      "Hi He Lied Because Boron Could Not Oxidize Fluorine. New Nations Might Also Sign Peace Security Clause. Arthur King Can.\n",
      "['Hi', 'He', 'Lied', 'Because', 'Boron', 'Could', 'Not', 'Oxidize', 'Fluorine.', 'New', 'Nations', 'Might', 'Also', 'Sign', 'Peace', 'Security', 'Clause.', 'Arthur', 'King', 'Can.']\n",
      "{1: 'H', 2: 'He', 3: 'Li', 4: 'Be', 5: 'B', 6: 'C', 7: 'N', 8: 'O', 9: 'F', 10: 'Ne', 11: 'Na', 12: 'Mi', 13: 'Al', 14: 'Si', 15: 'P', 16: 'S', 17: 'Cl', 18: 'Ar', 19: 'K', 20: 'Ca'}\n"
     ]
    }
   ],
   "source": [
    "#w1_04\n",
    "#a = \"Hi He Lied Because Boron Could Not Oxidize Fluorine. New Nations Might Also Sign Peace Security Clause. Arthur King Can.\"\n",
    "a = input()\n",
    "wList = a.replace(\",\", \"\").replace(\".\", \"\").split()\n",
    "num = [1, 5, 6, 7, 8, 9, 15, 16, 19]\n",
    "ans = {}\n",
    "\n",
    "print(a.split())\n",
    "for i in wList:\n",
    "    if wList.index(i) + 1 in num:\n",
    "        ans[wList.index(i) + 1] = i[0]\n",
    "    else:\n",
    "        ans[wList.index(i) + 1] = i[:2]\n",
    "print(ans)\n",
    "#周期表になってる！！"
   ]
  },
  {
   "cell_type": "code",
   "execution_count": 3,
   "metadata": {},
   "outputs": [
    {
     "name": "stdout",
     "output_type": "stream",
     "text": [
      "['I ', 'am', 'an', 'NL', 'LP', 'Pe', 'er']\n",
      "['I ', ' a', 'am', 'm ', ' a', 'an', 'n ', ' N', 'NL', 'LP', 'Pe', 'er']\n"
     ]
    }
   ],
   "source": [
    "#w1_05\n",
    "\n",
    "#文字列strを1文字づつずらしながらn文字ずつ取得しリストにする関数\n",
    "#半角スペースでパディング\n",
    "def n_gram(str, n):\n",
    "    n_gram = []\n",
    "    for i in range(len(str) - n + 1):\n",
    "        x = str[i:i + n]\n",
    "        n_gram.append(x)\n",
    "    if not n_gram:\n",
    "        n_gram.append(str[:n].ljust(n, \" \"))\n",
    "    return n_gram\n",
    "\n",
    "a = \"I am an NLPer\"\n",
    "b = a.replace(\",\", \"\").replace(\".\", \"\")\n",
    "c = b.split()\n",
    "ans1 = []\n",
    "for w in c:\n",
    "    ans1.extend(n_gram(w, 2))\n",
    "print(ans1)\n",
    "print(n_gram(a, 2))"
   ]
  },
  {
   "cell_type": "code",
   "execution_count": 28,
   "metadata": {
    "scrolled": true
   },
   "outputs": [
    {
     "name": "stdout",
     "output_type": "stream",
     "text": [
      "X: ['pa', 'ar', 'ra', 'ap', 'pa', 'ar', 'ra', 'ap', 'pa', 'ar', 'ra', 'ad', 'di', 'is', 'se']\n",
      "Y: ['pa', 'ar', 'ra', 'ag', 'gr', 'ra', 'ap', 'ph']\n",
      "X2: {'se', 'di', 'ad', 'is', 'ap', 'ra', 'ar', 'pa'}\n",
      "Y2: {'ag', 'ph', 'ap', 'gr', 'ra', 'ar', 'pa'}\n",
      "{'ag', 'ph', 'di', 'ad', 'is', 'se', 'gr'}\n",
      "和集合: {'ag', 'se', 'di', 'ph', 'ad', 'is', 'ap', 'gr', 'ra', 'ar', 'pa'}\n",
      "積集合: {'ar', 'ra', 'ap', 'pa'}\n",
      "差集合: {'ad', 'se', 'is', 'di'}\n",
      "se  in X_bi_gram: True\n",
      "se  in Y_bi_gram: False\n"
     ]
    }
   ],
   "source": [
    "#w1_06\n",
    "\n",
    "x = \"paraparaparadise\"\n",
    "y = \"paragraph\"\n",
    "\n",
    "X = n_gram(x, 2)\n",
    "Y = n_gram(y, 2)\n",
    "X2 = set(X)\n",
    "Y2 = set(Y)\n",
    "print(\"X: \" + str(X))\n",
    "print(\"Y: \" + str(Y))\n",
    "print(\"X2: \" + str(X2))\n",
    "print(\"Y2: \" + str(Y2))\n",
    "\n",
    "def join(x, y):\n",
    "    join = x | y\n",
    "    return join\n",
    "\n",
    "def dif(x, y):\n",
    "    sd = x - y\n",
    "    return sd\n",
    "\n",
    "def intersection(x, y):\n",
    "    ins = x & y\n",
    "    return ins\n",
    "    \n",
    "\n",
    "print(set_dif(X2, Y2))\n",
    "\n",
    "print(\"和集合: \" + str(join(X2, Y2)))\n",
    "print(\"積集合: \" + str(intersection(X2,Y2)))\n",
    "print(\"差集合: \" + str(dif(X2,Y2)))\n",
    "\n",
    "print(\"se  in X_bi_gram: \" + str(\"se\" in X))\n",
    "print(\"se  in Y_bi_gram: \" + str(\"se\" in Y))"
   ]
  },
  {
   "cell_type": "code",
   "execution_count": 29,
   "metadata": {},
   "outputs": [
    {
     "name": "stdout",
     "output_type": "stream",
     "text": [
      "12時の気温は22.4\n"
     ]
    }
   ],
   "source": [
    "#w1_07\n",
    "\n",
    "def temp(x, y, z):\n",
    "    t = str(x) + \"時の\" + str(y) + \"は\" + str(z)\n",
    "    return t\n",
    "\n",
    "print(temp(12, \"気温\" , 22.4))\n"
   ]
  },
  {
   "cell_type": "code",
   "execution_count": 39,
   "metadata": {},
   "outputs": [
    {
     "name": "stdout",
     "output_type": "stream",
     "text": [
      "Hvool dliow\n",
      "Hello world\n"
     ]
    }
   ],
   "source": [
    "#w1_08\n",
    "\n",
    "def cipher(sentense):\n",
    "    sentenseList = []\n",
    "    result = \"\"\n",
    "\n",
    "    for i in range(len(sentense)):\n",
    "        # i番目の文字が小文字の場合\n",
    "        if sentense[i].islower():\n",
    "            # リストのi番目にアスキーコード(219-アスキーコード)に対応する文字を挿入\n",
    "            sentenseList.insert(i, chr(219-ord(sentense[i])))\n",
    "        # i番目の文字が小文字ではない場合そのままリストに挿入\n",
    "        else:\n",
    "            sentenseList.insert(i, sentense[i])\n",
    "                \n",
    "    result = \"\".join(sentenseList)\n",
    "        \n",
    "    #文字列を返す\n",
    "    return result\n",
    "print(cipher(\"Hello world\"))\n",
    "print(cipher(cipher(\"Hello world\")))\n"
   ]
  },
  {
   "cell_type": "code",
   "execution_count": 24,
   "metadata": {},
   "outputs": [
    {
     "name": "stdout",
     "output_type": "stream",
     "text": [
      "['I', 'couldn’t', 'believe', 'that', 'I', 'could', 'actually', 'understand', 'what', 'I', 'was', 'reading', ':', 'the', 'phenomenal', 'power', 'of', 'the', 'human', 'mind', '.']\n",
      "並び替えない  :  I\n",
      "並び替え        : couldn’t >co’uldnt\n",
      "並び替え        : believe >bvielee\n",
      "並び替えない  :  that\n",
      "並び替えない  :  I\n",
      "並び替え        : could >could\n",
      "並び替え        : actually >aaltculy\n",
      "並び替え        : understand >unenstadrd\n",
      "並び替えない  :  what\n",
      "並び替えない  :  I\n",
      "並び替えない  :  was\n",
      "並び替え        : reading >reniadg\n",
      "並び替えない  :  :\n",
      "並び替えない  :  the\n",
      "並び替え        : phenomenal >pneonaemhl\n",
      "並び替え        : power >power\n",
      "並び替えない  :  of\n",
      "並び替えない  :  the\n",
      "並び替え        : human >hmaun\n",
      "並び替えない  :  mind\n",
      "並び替えない  :  .\n",
      "I co’uldnt bvielee that I could aaltculy unenstadrd what I was reniadg : the pneonaemhl power of the hmaun mind .\n",
      "\n"
     ]
    }
   ],
   "source": [
    "#w1_09\n",
    "\n",
    "import random\n",
    "\n",
    "def TypoglycemiaPermalink(sentense):\n",
    "    sentenseList = []\n",
    "    result = \"\"\n",
    "    \n",
    "    #単語に区切る\n",
    "    sentenseList = sentense.split(\" \")\n",
    "    print(sentenseList)\n",
    "    \n",
    "    #単語が４文字以上の要素の先頭と末尾以外の文字をランダム入れ替え\n",
    "    for i, word in enumerate(sentenseList):\n",
    "        #enumerate　で扱うと、iにループカウントを取得できる\n",
    "        \n",
    "        if len(word) > 4:\n",
    "            \n",
    "            #先頭と末尾以外をスライスで取得し並び替え　\n",
    "            #n：ランダム並び替えしたい文字列\n",
    "            #r:nをランダムに並び替えた文字列\n",
    "            n = word[1:-1]\n",
    "            r = ''.join(random.sample(n, len(n)))\n",
    "            \n",
    "            #並び替えたものをもとの場所から置き換え\n",
    "            mod = word.replace(n, r)\n",
    "            print(\"並び替え        : \" +word + \" >\" +  mod)\n",
    "            sentenseList[i] = mod\n",
    "        else:\n",
    "            print(\"並び替えない  :  \" + word)\n",
    "    print(\" \".join(sentenseList))\n",
    "    \n",
    "   \n",
    "    return result\n",
    "\n",
    "print(TypoglycemiaPermalink(\"I couldn’t believe that I could actually understand what I was reading : the phenomenal power of the human mind .\"))\n"
   ]
  },
  {
   "cell_type": "code",
   "execution_count": 9,
   "metadata": {},
   "outputs": [
    {
     "name": "stdout",
     "output_type": "stream",
     "text": [
      "badce\n"
     ]
    }
   ],
   "source": [
    "s = 'abcde'\n",
    "sr = ''.join(random.sample(s, len(s)))\n",
    "print(sr)\n",
    "# caebd"
   ]
  },
  {
   "cell_type": "code",
   "execution_count": null,
   "metadata": {},
   "outputs": [],
   "source": []
  }
 ],
 "metadata": {
  "kernelspec": {
   "display_name": "Python 3",
   "language": "python",
   "name": "python3"
  },
  "language_info": {
   "codemirror_mode": {
    "name": "ipython",
    "version": 3
   },
   "file_extension": ".py",
   "mimetype": "text/x-python",
   "name": "python",
   "nbconvert_exporter": "python",
   "pygments_lexer": "ipython3",
   "version": "3.7.1"
  }
 },
 "nbformat": 4,
 "nbformat_minor": 2
}
